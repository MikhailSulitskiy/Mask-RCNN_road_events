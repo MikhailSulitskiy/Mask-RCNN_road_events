{
  "nbformat": 4,
  "nbformat_minor": 0,
  "metadata": {
    "colab": {
      "name": "roadEvents.ipynb",
      "provenance": [],
      "collapsed_sections": []
    },
    "kernelspec": {
      "name": "python3",
      "display_name": "Python 3"
    },
    "language_info": {
      "name": "python"
    }
  },
  "cells": [
    {
      "cell_type": "code",
      "metadata": {
        "colab": {
          "base_uri": "https://localhost:8080/"
        },
        "id": "plCLITdOS90m",
        "outputId": "d47c6e23-8e66-42f3-9355-854a9c78c758"
      },
      "source": [
        "pip install pyTelegramBotAPI"
      ],
      "execution_count": null,
      "outputs": [
        {
          "output_type": "stream",
          "text": [
            "Collecting pyTelegramBotAPI\n",
            "\u001b[?25l  Downloading https://files.pythonhosted.org/packages/21/d4/440ef91bc6154cd72705b7a048a7e2d91ff6af3a379ed39fed9b6f1b214f/pyTelegramBotAPI-3.7.9.tar.gz (90kB)\n",
            "\r\u001b[K     |███▋                            | 10kB 13.5MB/s eta 0:00:01\r\u001b[K     |███████▏                        | 20kB 19.0MB/s eta 0:00:01\r\u001b[K     |██████████▉                     | 30kB 10.9MB/s eta 0:00:01\r\u001b[K     |██████████████▍                 | 40kB 8.4MB/s eta 0:00:01\r\u001b[K     |██████████████████              | 51kB 5.5MB/s eta 0:00:01\r\u001b[K     |█████████████████████▋          | 61kB 5.6MB/s eta 0:00:01\r\u001b[K     |█████████████████████████▏      | 71kB 5.9MB/s eta 0:00:01\r\u001b[K     |████████████████████████████▉   | 81kB 6.5MB/s eta 0:00:01\r\u001b[K     |████████████████████████████████| 92kB 4.2MB/s \n",
            "\u001b[?25hRequirement already satisfied: requests in /usr/local/lib/python3.7/dist-packages (from pyTelegramBotAPI) (2.23.0)\n",
            "Requirement already satisfied: idna<3,>=2.5 in /usr/local/lib/python3.7/dist-packages (from requests->pyTelegramBotAPI) (2.10)\n",
            "Requirement already satisfied: urllib3!=1.25.0,!=1.25.1,<1.26,>=1.21.1 in /usr/local/lib/python3.7/dist-packages (from requests->pyTelegramBotAPI) (1.24.3)\n",
            "Requirement already satisfied: certifi>=2017.4.17 in /usr/local/lib/python3.7/dist-packages (from requests->pyTelegramBotAPI) (2020.12.5)\n",
            "Requirement already satisfied: chardet<4,>=3.0.2 in /usr/local/lib/python3.7/dist-packages (from requests->pyTelegramBotAPI) (3.0.4)\n",
            "Building wheels for collected packages: pyTelegramBotAPI\n",
            "  Building wheel for pyTelegramBotAPI (setup.py) ... \u001b[?25l\u001b[?25hdone\n",
            "  Created wheel for pyTelegramBotAPI: filename=pyTelegramBotAPI-3.7.9-cp37-none-any.whl size=67898 sha256=8fbddb2b89d3483905ba10c9b1b2b5f59df0e987d673812c85b1658ab92f3d3c\n",
            "  Stored in directory: /root/.cache/pip/wheels/68/bb/cb/1af3be2487e0e183f3848e9d555acdf4df4628637fab5b9939\n",
            "Successfully built pyTelegramBotAPI\n",
            "Installing collected packages: pyTelegramBotAPI\n",
            "Successfully installed pyTelegramBotAPI-3.7.9\n"
          ],
          "name": "stdout"
        }
      ]
    },
    {
      "cell_type": "code",
      "metadata": {
        "id": "w-D9CA6kSjui"
      },
      "source": [
        "import telebot\n",
        "import random\n",
        "TOKEN = '1814029509:AAF0oAHJ5PDBdg_MyN1J9ZyP3zqS0uL5vMY'\n",
        "from telebot import types"
      ],
      "execution_count": null,
      "outputs": []
    },
    {
      "cell_type": "code",
      "metadata": {
        "id": "tjkUfWoFQRXa"
      },
      "source": [
        "bot = telebot.TeleBot(TOKEN)\n",
        " \n",
        "@bot.message_handler(commands=['start'])\n",
        "def welcome(message):\n",
        " \n",
        "    # keyboard\n",
        "    markup = types.ReplyKeyboardMarkup(resize_keyboard=True)\n",
        "    item1 = types.KeyboardButton(\"Выбрать участок\")\n",
        "    item2 = types.KeyboardButton(\"Выбрать Дорожные ситуации\")\n",
        "    markup.add(item1, item2)\n",
        " \n",
        "    bot.send_message(message.chat.id, \"Добро пожаловать, {0.first_name}!\\n<b>{1.first_name}</b>, бот созданный для информирования автомобилистов о дорожных ситуациях.\".format(message.from_user, bot.get_me()),\n",
        "        parse_mode='html', reply_markup=markup)\n",
        " \n",
        "@bot.message_handler(content_types=['text'])\n",
        "def info(message):\n",
        "    if message.chat.type == 'private':\n",
        "        if message.text == 'Выбрать участок':\n",
        "            markup = types.InlineKeyboardMarkup(row_width=2)\n",
        "            item1 = types.InlineKeyboardButton(\"ул. 30-летия Победы - ул. Константина Симонова\", callback_data='simon')\n",
        "            item2 = types.InlineKeyboardButton(\"Дзержинский, ул. им. Константина Симонова - ул. 8-й Воздушной Армии\", callback_data='dj')\n",
        "            markup.add(item1, item2)\n",
        "            bot.send_message(message.chat.id, 'Выберите участок', reply_markup=markup)\n",
        "\n",
        "        elif message.text == 'Выбрать Дорожные ситуации':\n",
        "            markup = types.InlineKeyboardMarkup(row_width=3)\n",
        "            item1 = types.InlineKeyboardButton(\"ДТП\", callback_data='dtp')\n",
        "            item2 = types.InlineKeyboardButton(\"Затор на дороге\", callback_data='zator')\n",
        "            item3 = types.InlineKeyboardButton(\"Человек на дорожном полотне\", callback_data='people')\n",
        "            markup.add(item1, item2, item3)\n",
        "            bot.send_message(message.chat.id, 'Выберите Дорожное событие', reply_markup=markup)   \n",
        "        \n",
        "        elif message.text == '-send':\n",
        "            photo = open('/content/people.jpg', 'rb')\n",
        "            bot.send_photo(message.chat.id, photo)\n",
        "            bot.send_message(message.chat.id, 'ул. 30-летия Победы - ул. Константина Симонова\\nВыявленная дорожная ситуация - Человек на дорожном полотне\\nВремя: 15:48:22')\n",
        "\n",
        "        else:\n",
        "            bot.send_message(message.chat.id, 'Я не знаю что ответить')\n",
        " \n",
        "@bot.callback_query_handler(func=lambda call: True)\n",
        "def callback_inline(call):\n",
        "    try:\n",
        "        if call.message:\n",
        "            if call.data == 'simon':\n",
        "                bot.send_message(call.message.chat.id, 'Теперь Вам будет поступать информация по участку: ул. 30-летия Победы - ул. Константина Симонова')\n",
        "                bot.send_message(call.message.chat.id, '_________________________________________')\n",
        "            elif call.data == 'dj':\n",
        "                bot.send_message(call.message.chat.id, 'Теперь Вам будет поступать информация по участку: Дзержинский, ул. им. Константина Симонова - ул. 8-й Воздушной Армии')\n",
        "                bot.send_message(call.message.chat.id, '_________________________________________')\n",
        "            elif call.data == 'dtp':\n",
        "                bot.send_message(call.message.chat.id, 'Теперь Вам будет поступать информация о ДТП на выбранном вами участке')\n",
        "                bot.send_message(call.message.chat.id, '_________________________________________')\n",
        "            elif call.data == 'zator':\n",
        "                bot.send_message(call.message.chat.id, 'Теперь Вам будет поступать информация о Заторах на выбранном вами участке')\n",
        "                bot.send_message(call.message.chat.id, '_________________________________________')\n",
        "            elif call.data == 'people':\n",
        "                bot.send_message(call.message.chat.id, 'Теперь Вам будет поступать информация о Людях на дорожном полотне на выбранном вами участке')\n",
        "                bot.send_message(call.message.chat.id, '_________________________________________')\n",
        "            # remove inline buttons\n",
        "            bot.edit_message_text(chat_id=call.message.chat.id, message_id=call.message.message_id, text=\"_________________________________________ \",\n",
        "                reply_markup=None)\n",
        " \n",
        "            # show alert\n",
        "            bot.answer_callback_query(callback_query_id=call.id, show_alert=True,\n",
        "                text=\"Информация успешно дополнена\")\n",
        " \n",
        "    except Exception as e:\n",
        "        print(repr(e))\n",
        " \n",
        "# RUN\n",
        "bot.polling(none_stop=True)"
      ],
      "execution_count": null,
      "outputs": []
    }
  ]
}